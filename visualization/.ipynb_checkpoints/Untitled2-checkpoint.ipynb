{
 "cells": [
  {
   "cell_type": "code",
   "execution_count": 20,
   "metadata": {},
   "outputs": [
    {
     "name": "stdout",
     "output_type": "stream",
     "text": [
      "(35042, 61)\n",
      "(18014, 61)\n"
     ]
    }
   ],
   "source": [
    "import pandas as pd\n",
    "filename = 'hechos-de-transito-reportados-por-ssc-base-ampliada-no-comparativa.csv'\n",
    "data = pd.read_csv(filename, header=0)\n",
    "\n",
    "print(data.shape)\n",
    "data.head(10)\n",
    "data.columns\n",
    "data=data\n",
    "data=data[data['AÑO_EVENTO']==2019]\n",
    "print(data.shape)"
   ]
  },
  {
   "cell_type": "code",
   "execution_count": 21,
   "metadata": {},
   "outputs": [],
   "source": [
    "def condition(data,replacement,stringu):\n",
    "    if data.empty:\n",
    "        pass\n",
    "    else:\n",
    "        data[data['MARCA DE VEHÍCULO 1'].str.contains(stringu, na=False)]=replacement \n",
    "        data[data['MARCA DE VEHÍCULO 2'].str.contains(stringu, na=False)]=replacement    \n",
    "        data[data['MARCA DE VEHÍCULO 3'].str.contains(stringu, na=False)]=replacement    \n",
    "        data[data['MARCA DE VEHÍCULO 4'].str.contains(stringu, na=False)]=replacement\n",
    "    return data\n",
    "data=data[data['AÑO_EVENTO']==2019]\n",
    "#clean chevrolet\n",
    "#data['MARCA DE VEHÍCULO 1'].fillna('')\n",
    "#data['MARCA DE VEHÍCULO 2'].fillna('')\n",
    "#data['MARCA DE VEHÍCULO 3'].fillna('')\n",
    "#data['MARCA DE VEHÍCULO 4'].fillna('')\n",
    "data=condition(data,'AVEO','CHEVROLET AVEO')\n",
    "data=condition(data,'BEAT','CHEVROLET BEAT')\n",
    "\n",
    "#clean nissan\n",
    "data=condition(data,'TSURU', 'NISSAN TSURU')\n",
    "data=condition(data,'JETTA','VW JETTA')\n",
    "data=condition(data,'JETTA','JETTA VW')\n",
    "data=condition(data,'VENTO','VOLKSWAGEN VENTO')\n",
    "data=condition(data,'CHEVY','CHEVROLET CHEVY')\n",
    "data=condition(data,'CHEVY','CHEVY CHEVROLET')\n",
    "data=condition(data,'SENTRA','NISSAN SENTRA')\n",
    "data=condition(data,'SPARK','CHEVROLET SPARK')\n",
    "data=condition(data,'MARCH','NISSAN MARCH')"
   ]
  },
  {
   "cell_type": "code",
   "execution_count": 22,
   "metadata": {},
   "outputs": [],
   "source": [
    "data_automovil1=data[data['TIPO DE VEHÍCULO 1']=='MOTOCICLETA']\n",
    "data_automovil2=data[data['TIPO DE VEHÍCULO 2']=='MOTOCICLETA']\n",
    "data_automovil3=data[data['TIPO DE VEHÍCULO 3']=='MOTOCICLETA']\n",
    "data_automovil4=data[data['TIPO DE VEHÍCULO 4']=='MOTOCICLETA']"
   ]
  },
  {
   "cell_type": "code",
   "execution_count": 17,
   "metadata": {},
   "outputs": [],
   "source": [
    "countv1=data_automovil1.groupby('MARCA DE VEHÍCULO 1')['MARCA DE VEHÍCULO 1'].count().to_frame()\n",
    "countv2=data_automovil2.groupby('MARCA DE VEHÍCULO 2')['MARCA DE VEHÍCULO 2'].count().to_frame()\n",
    "countv3=data_automovil3.groupby('MARCA DE VEHÍCULO 3')['MARCA DE VEHÍCULO 3'].count().to_frame()\n",
    "countv4=data_automovil4.groupby('MARCA DE VEHÍCULO 4')['MARCA DE VEHÍCULO 4'].count().to_frame()"
   ]
  },
  {
   "cell_type": "code",
   "execution_count": 11,
   "metadata": {},
   "outputs": [
    {
     "data": {
      "text/html": [
       "<div>\n",
       "<style scoped>\n",
       "    .dataframe tbody tr th:only-of-type {\n",
       "        vertical-align: middle;\n",
       "    }\n",
       "\n",
       "    .dataframe tbody tr th {\n",
       "        vertical-align: top;\n",
       "    }\n",
       "\n",
       "    .dataframe thead th {\n",
       "        text-align: right;\n",
       "    }\n",
       "</style>\n",
       "<table border=\"1\" class=\"dataframe\">\n",
       "  <thead>\n",
       "    <tr style=\"text-align: right;\">\n",
       "      <th></th>\n",
       "      <th>MARCA DE VEHÍCULO 1</th>\n",
       "      <th>MARCA DE VEHÍCULO 2</th>\n",
       "      <th>MARCA DE VEHÍCULO 3</th>\n",
       "      <th>MARCA DE VEHÍCULO 4</th>\n",
       "      <th>Total</th>\n",
       "    </tr>\n",
       "    <tr>\n",
       "      <th>MARCA DE VEHÍCULO 1</th>\n",
       "      <th></th>\n",
       "      <th></th>\n",
       "      <th></th>\n",
       "      <th></th>\n",
       "      <th></th>\n",
       "    </tr>\n",
       "  </thead>\n",
       "  <tbody>\n",
       "    <tr>\n",
       "      <th>ITALIKA</th>\n",
       "      <td>1696</td>\n",
       "      <td>872.0</td>\n",
       "      <td>20.0</td>\n",
       "      <td>6.0</td>\n",
       "      <td>2594.0</td>\n",
       "    </tr>\n",
       "    <tr>\n",
       "      <th>SD</th>\n",
       "      <td>1522</td>\n",
       "      <td>624.0</td>\n",
       "      <td>16.0</td>\n",
       "      <td>1.0</td>\n",
       "      <td>2163.0</td>\n",
       "    </tr>\n",
       "    <tr>\n",
       "      <th>YAMAHA</th>\n",
       "      <td>786</td>\n",
       "      <td>416.0</td>\n",
       "      <td>5.0</td>\n",
       "      <td>3.0</td>\n",
       "      <td>1210.0</td>\n",
       "    </tr>\n",
       "    <tr>\n",
       "      <th>HONDA</th>\n",
       "      <td>499</td>\n",
       "      <td>301.0</td>\n",
       "      <td>7.0</td>\n",
       "      <td>0.0</td>\n",
       "      <td>807.0</td>\n",
       "    </tr>\n",
       "    <tr>\n",
       "      <th>VENTO</th>\n",
       "      <td>286</td>\n",
       "      <td>164.0</td>\n",
       "      <td>3.0</td>\n",
       "      <td>0.0</td>\n",
       "      <td>453.0</td>\n",
       "    </tr>\n",
       "    <tr>\n",
       "      <th>PULSAR</th>\n",
       "      <td>228</td>\n",
       "      <td>123.0</td>\n",
       "      <td>0.0</td>\n",
       "      <td>0.0</td>\n",
       "      <td>351.0</td>\n",
       "    </tr>\n",
       "    <tr>\n",
       "      <th>SUZUKI</th>\n",
       "      <td>189</td>\n",
       "      <td>98.0</td>\n",
       "      <td>2.0</td>\n",
       "      <td>0.0</td>\n",
       "      <td>289.0</td>\n",
       "    </tr>\n",
       "    <tr>\n",
       "      <th>HARLEY DAVIDSON</th>\n",
       "      <td>60</td>\n",
       "      <td>30.0</td>\n",
       "      <td>2.0</td>\n",
       "      <td>0.0</td>\n",
       "      <td>92.0</td>\n",
       "    </tr>\n",
       "    <tr>\n",
       "      <th>CARABELA</th>\n",
       "      <td>49</td>\n",
       "      <td>37.0</td>\n",
       "      <td>0.0</td>\n",
       "      <td>0.0</td>\n",
       "      <td>86.0</td>\n",
       "    </tr>\n",
       "    <tr>\n",
       "      <th>BMW</th>\n",
       "      <td>43</td>\n",
       "      <td>33.0</td>\n",
       "      <td>0.0</td>\n",
       "      <td>0.0</td>\n",
       "      <td>76.0</td>\n",
       "    </tr>\n",
       "  </tbody>\n",
       "</table>\n",
       "</div>"
      ],
      "text/plain": [
       "                     MARCA DE VEHÍCULO 1  MARCA DE VEHÍCULO 2  \\\n",
       "MARCA DE VEHÍCULO 1                                             \n",
       "ITALIKA                             1696                872.0   \n",
       "SD                                  1522                624.0   \n",
       "YAMAHA                               786                416.0   \n",
       "HONDA                                499                301.0   \n",
       "VENTO                                286                164.0   \n",
       "PULSAR                               228                123.0   \n",
       "SUZUKI                               189                 98.0   \n",
       "HARLEY DAVIDSON                       60                 30.0   \n",
       "CARABELA                              49                 37.0   \n",
       "BMW                                   43                 33.0   \n",
       "\n",
       "                     MARCA DE VEHÍCULO 3  MARCA DE VEHÍCULO 4   Total  \n",
       "MARCA DE VEHÍCULO 1                                                    \n",
       "ITALIKA                             20.0                  6.0  2594.0  \n",
       "SD                                  16.0                  1.0  2163.0  \n",
       "YAMAHA                               5.0                  3.0  1210.0  \n",
       "HONDA                                7.0                  0.0   807.0  \n",
       "VENTO                                3.0                  0.0   453.0  \n",
       "PULSAR                               0.0                  0.0   351.0  \n",
       "SUZUKI                               2.0                  0.0   289.0  \n",
       "HARLEY DAVIDSON                      2.0                  0.0    92.0  \n",
       "CARABELA                             0.0                  0.0    86.0  \n",
       "BMW                                  0.0                  0.0    76.0  "
      ]
     },
     "execution_count": 11,
     "metadata": {},
     "output_type": "execute_result"
    }
   ],
   "source": [
    "Allcar=countv1.join(countv2).join(countv3).join(countv4)\n",
    "Allcar=Allcar.fillna(0)\n",
    "Allcar[\"Total\"]=Allcar.iloc[:,0]+Allcar.iloc[:,1]+Allcar.iloc[:,2]+Allcar.iloc[:,3]\n",
    "Allcar=Allcar.sort_values(by = 'Total',ascending=False) \n",
    "Allcar.head(30)\n",
    "Allcar_clean=Allcar.copy()\n",
    "Allcar_clean=Allcar_clean.head(40)\n",
    "Allcar_clean=Allcar_clean[:10]\n",
    "Allcar_clean"
   ]
  },
  {
   "cell_type": "code",
   "execution_count": 14,
   "metadata": {},
   "outputs": [
    {
     "data": {
      "image/png": "[encoded data removed]",
      "text/plain": [
       "<Figure size 432x288 with 1 Axes>"
      ]
     },
     "metadata": {
      "needs_background": "light"
     },
     "output_type": "display_data"
    }
   ],
   "source": [
    "import matplotlib\n",
    "import matplotlib.pyplot as plt\n",
    "import numpy as np\n",
    "\n",
    "#Definimos una lista con paises como string\n",
    "Autos = Allcar_clean.index.values\n",
    "#Definimos una lista con ventas como entero\n",
    "Incidentes = Allcar_clean.Total\n",
    "\n",
    "fig, ax = plt.subplots()\n",
    "ax.plot(kind='bar',figsize=(12,7), color='blue', alpha=0.5)\n",
    "#Colocamos una etiqueta en el eje Y\n",
    "ax.set_ylabel('Autos')\n",
    "#Colocamos una etiqueta en el eje X\n",
    "ax.set_title('Incidentes')\n",
    "#Creamos la grafica de barras utilizando 'paises' como eje X y 'ventas' como eje y.\n",
    "plt.xticks(rotation=90)\n",
    "plt.bar(Autos, Incidentes)\n",
    "plt.savefig('barras_simple.png')\n",
    "#Finalmente mostramos la grafica con el metodo show()\n",
    "plt.show()"
   ]
  },
  {
   "cell_type": "code",
   "execution_count": 39,
   "metadata": {},
   "outputs": [
    {
     "ename": "TypeError",
     "evalue": "rename() got an unexpected keyword argument 'columns'",
     "output_type": "error",
     "traceback": [
      "\u001b[1;31m---------------------------------------------------------------------------\u001b[0m",
      "\u001b[1;31mTypeError\u001b[0m                                 Traceback (most recent call last)",
      "\u001b[1;32m<ipython-input-39-a9ed79dfd45b>\u001b[0m in \u001b[0;36m<module>\u001b[1;34m\u001b[0m\n\u001b[0;32m      9\u001b[0m \u001b[0mcountv1\u001b[0m\u001b[1;33m=\u001b[0m \u001b[0mcountv1\u001b[0m\u001b[1;33m.\u001b[0m\u001b[0mrename\u001b[0m\u001b[1;33m(\u001b[0m\u001b[0mcolumns\u001b[0m\u001b[1;33m=\u001b[0m\u001b[1;33m{\u001b[0m\u001b[1;34m'LESIONADO'\u001b[0m\u001b[1;33m:\u001b[0m \u001b[1;34m'LESIONADO1'\u001b[0m\u001b[1;33m,\u001b[0m\u001b[1;34m'OCCISO'\u001b[0m\u001b[1;33m:\u001b[0m\u001b[1;34m'OCCISO1'\u001b[0m\u001b[1;33m}\u001b[0m\u001b[1;33m)\u001b[0m\u001b[1;33m\u001b[0m\u001b[1;33m\u001b[0m\u001b[0m\n\u001b[0;32m     10\u001b[0m \u001b[0mcountv2\u001b[0m\u001b[1;33m=\u001b[0m \u001b[0mcountv2\u001b[0m\u001b[1;33m.\u001b[0m\u001b[0mrename\u001b[0m\u001b[1;33m(\u001b[0m\u001b[0mcolumns\u001b[0m\u001b[1;33m=\u001b[0m\u001b[1;33m{\u001b[0m\u001b[1;34m'LESIONADO'\u001b[0m\u001b[1;33m:\u001b[0m \u001b[1;34m'LESIONADO2'\u001b[0m\u001b[1;33m,\u001b[0m\u001b[1;34m'OCCISO'\u001b[0m\u001b[1;33m:\u001b[0m\u001b[1;34m'OCCISO2'\u001b[0m\u001b[1;33m}\u001b[0m\u001b[1;33m)\u001b[0m\u001b[1;33m\u001b[0m\u001b[1;33m\u001b[0m\u001b[0m\n\u001b[1;32m---> 11\u001b[1;33m \u001b[0mcountv3\u001b[0m\u001b[1;33m=\u001b[0m \u001b[0mcountv3\u001b[0m\u001b[1;33m.\u001b[0m\u001b[0mrename\u001b[0m\u001b[1;33m(\u001b[0m\u001b[0mcolumns\u001b[0m\u001b[1;33m=\u001b[0m\u001b[1;33m{\u001b[0m\u001b[1;34m'LESIONADO'\u001b[0m\u001b[1;33m:\u001b[0m \u001b[1;34m'LESIONADO3'\u001b[0m\u001b[1;33m}\u001b[0m\u001b[1;33m)\u001b[0m\u001b[1;33m\u001b[0m\u001b[1;33m\u001b[0m\u001b[0m\n\u001b[0m\u001b[0;32m     12\u001b[0m \u001b[1;31m#countv4= countv4.rename(columns={'LESIONADO': 'LESIONADO4','OCCISO':'OCCISO4'})\u001b[0m\u001b[1;33m\u001b[0m\u001b[1;33m\u001b[0m\u001b[1;33m\u001b[0m\u001b[0m\n",
      "\u001b[1;31mTypeError\u001b[0m: rename() got an unexpected keyword argument 'columns'"
     ]
    }
   ],
   "source": [
    "countv1=data_automovil1.groupby(['MARCA DE VEHÍCULO 1','CONDICIÓN'])['MARCA DE VEHÍCULO 1'].count().unstack()[['LESIONADO', 'OCCISO']]\n",
    "countv2=data_automovil2.groupby(['MARCA DE VEHÍCULO 2','CONDICIÓN'])['MARCA DE VEHÍCULO 2'].count().unstack()[['LESIONADO', 'OCCISO']]\n",
    "countv3=data_automovil3.groupby(['MARCA DE VEHÍCULO 3','CONDICIÓN'])['MARCA DE VEHÍCULO 3'].count().unstack()[['LESIONADO', 'OCCISO']]\n",
    "countv4=data_automovil4.groupby(['MARCA DE VEHÍCULO 4','CONDICIÓN'])['MARCA DE VEHÍCULO 4'].count()#.unstack()[['LESIONADO', 'OCCISO']]\n",
    "countv1=countv1.fillna(0)\n",
    "countv2=countv2.fillna(0)\n",
    "countv3=countv3.fillna(0)\n",
    "countv4=countv4.fillna(0)\n",
    "countv1= countv1.rename(columns={'LESIONADO': 'LESIONADO1','OCCISO':'OCCISO1'})\n",
    "countv2= countv2.rename(columns={'LESIONADO': 'LESIONADO2','OCCISO':'OCCISO2'})\n",
    "countv3= countv3.rename(columns={'LESIONADO': 'LESIONADO3'})\n",
    "#countv4= countv4.rename(columns={'LESIONADO': 'LESIONADO4','OCCISO':'OCCISO4'})"
   ]
  },
  {
   "cell_type": "code",
   "execution_count": 38,
   "metadata": {},
   "outputs": [
    {
     "data": {
      "text/plain": [
       "MARCA DE VEHÍCULO 3  CONDICIÓN\n",
       "BAJAJ                LESIONADO     1\n",
       "CARGO                LESIONADO     1\n",
       "HARLEY DAVIDSON      LESIONADO     2\n",
       "HONDA                LESIONADO     7\n",
       "ITALIKA              LESIONADO    20\n",
       "KURAZAI              LESIONADO     1\n",
       "SD                   LESIONADO    16\n",
       "SUZUKI               LESIONADO     2\n",
       "VENTO                LESIONADO     3\n",
       "YAMAHA               LESIONADO     5\n",
       "Name: MARCA DE VEHÍCULO 3, dtype: int64"
      ]
     },
     "execution_count": 38,
     "metadata": {},
     "output_type": "execute_result"
    }
   ],
   "source": [
    "countv3"
   ]
  },
  {
   "cell_type": "code",
   "execution_count": null,
   "metadata": {},
   "outputs": [],
   "source": []
  }
 ],
 "metadata": {
  "kernelspec": {
   "display_name": "Python 3",
   "language": "python",
   "name": "python3"
  },
  "language_info": {
   "codemirror_mode": {
    "name": "ipython",
    "version": 3
   },
   "file_extension": ".py",
   "mimetype": "text/x-python",
   "name": "python",
   "nbconvert_exporter": "python",
   "pygments_lexer": "ipython3",
   "version": "3.8.3"
  }
 },
 "nbformat": 4,
 "nbformat_minor": 4
}
